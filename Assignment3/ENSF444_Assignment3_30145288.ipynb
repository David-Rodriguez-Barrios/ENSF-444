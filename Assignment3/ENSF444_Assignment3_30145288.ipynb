{
  "cells": [
    {
      "cell_type": "markdown",
      "id": "CNDKREiQRJJX",
      "metadata": {
        "id": "CNDKREiQRJJX"
      },
      "source": [
        "<font size=\"+3\"><b>Assignment 3: Non-Linear Models and Validation Metrics</b></font>\n",
        "\n",
        "***\n",
        "* **Full Name** = David Rodriguez   \n",
        "* **UCID** = 30145288\n",
        "***"
      ]
    },
    {
      "cell_type": "markdown",
      "id": "ce31b39a",
      "metadata": {
        "id": "ce31b39a"
      },
      "source": [
        "<font color='Blue'>\n",
        "In this assignment, you will need to write code that uses non-linear models to perform classification and regression tasks. You will also be asked to describe the process by which you came up with the code. More details can be found below. Please cite any websites or AI tools that you used to help you with this assignment.\n",
        "</font>\n",
        "\n",
        "|                **Question**                | **Point** |\n",
        "|:------------------------------------------:|:---------:|\n",
        "|           **Part 1: Regression**           |  **14.5** |\n",
        "|          Step 0: Import Libraries          |           |\n",
        "|             Step 1: Data Input             |    0.5    |\n",
        "|           Step 2: Data Processing          |     0     |\n",
        "| Step 3: Implement   Machine Learning Model |    0.5    |\n",
        "|           Step 4: Validate Model           |    0.5    |\n",
        "|         Step 5: Visualize   Results        |     3     |\n",
        "|                  Questions                 |     6     |\n",
        "|             Process Description            |     4     |\n",
        "|         **Part 2: Classification**         |  **17.5** |\n",
        "|             Step 1: Data Input             |     2     |\n",
        "|           Step 2: Data Processing          |    1.5    |\n",
        "| Step 3: Implement   Machine Learning Model |           |\n",
        "|            Step 4: Validate Mode           |           |\n",
        "|         Step 5: Visualize   Results        |     4     |\n",
        "|                  Questions                 |     6     |\n",
        "|             Process Description            |     4     |\n",
        "|   **Part 3: Observations/Interpretation**  |   **3**   |\n",
        "|           **Part 4: Reflection**           |   **2**   |\n",
        "|                  **Total**                 |   **37**  |\n",
        "|                                            |           |\n",
        "|                  **Bonus**                 |           |\n",
        "|         **Part 5: Bonus Question**         |   **3**   |"
      ]
    },
    {
      "cell_type": "markdown",
      "id": "cf275ca7",
      "metadata": {
        "id": "cf275ca7"
      },
      "source": [
        "### Import Libraries"
      ]
    },
    {
      "cell_type": "code",
      "execution_count": 15,
      "id": "2b67a661",
      "metadata": {
        "id": "2b67a661"
      },
      "outputs": [],
      "source": [
        "import numpy as np\n",
        "import pandas as pd\n",
        "import matplotlib.pyplot as plt\n",
        "import seaborn as sns"
      ]
    },
    {
      "cell_type": "markdown",
      "id": "5ee2d2c3",
      "metadata": {
        "id": "5ee2d2c3"
      },
      "source": [
        "# **Part 1: Regression (14.5 marks)**\n",
        "\n",
        "For this section, we will be continuing with the concrete example from yellowbrick. You will need to compare these results to the results from the previous assignment. Please use the results from the solution if you were unable to complete Assignment 2"
      ]
    },
    {
      "cell_type": "markdown",
      "id": "8219f163",
      "metadata": {
        "id": "8219f163"
      },
      "source": [
        "## **Step 1:** Data Input (0.5 marks)\n",
        "\n",
        "The data used for this task can be downloaded using the yellowbrick library:\n",
        "https://www.scikit-yb.org/en/latest/api/datasets/concrete.html\n",
        "\n",
        "Use the yellowbrick function `load_concrete()` to load the concrete dataset into the feature matrix `X` and target vector `y`."
      ]
    },
    {
      "cell_type": "code",
      "execution_count": 16,
      "id": "2af8bd32",
      "metadata": {
        "id": "2af8bd32"
      },
      "outputs": [],
      "source": [
        "# TO DO: Import concrete dataset from yellowbrick library\n",
        "\n",
        "from yellowbrick.datasets import load_concrete"
      ]
    },
    {
      "cell_type": "markdown",
      "id": "42fea4cc",
      "metadata": {
        "id": "42fea4cc"
      },
      "source": [
        "## **Step 2:** Data Processing (0 marks)\n",
        "\n",
        "Data processing was completed in the previous assignment. No need to repeat here.\n",
        "\n",
        "<font color='red'>\n",
        "This is just for your information and no action is required from you for this step.\n",
        "</font>"
      ]
    },
    {
      "cell_type": "markdown",
      "id": "2a245d00",
      "metadata": {
        "id": "2a245d00"
      },
      "source": [
        "## **Step 3:** Implement Machine Learning Model (0.5 marks)\n",
        "\n",
        "1. Import the Decision Tree, Random Forest and Gradient Boosting Machines regression models from sklearn\n",
        "2. Instantiate the three models with `max_depth = 5`. Are there any other parameters that you will need to set?\n",
        "3. Implement each machine learning model with `X` and `y`"
      ]
    },
    {
      "cell_type": "markdown",
      "id": "3f994e31",
      "metadata": {
        "id": "3f994e31"
      },
      "source": [
        "## **Step 4:** Validate Model (0.5 marks)\n",
        "\n",
        "Calculate the average training and validation accuracy using mean squared error with cross-validation. To do this, you will need to set `scoring='neg_mean_squared_error'` in your `cross_validate` function and negate the results (multiply by -1)"
      ]
    },
    {
      "cell_type": "markdown",
      "id": "5fc3f7a8",
      "metadata": {
        "id": "5fc3f7a8"
      },
      "source": [
        "## **Step 5:** Visualize Results (3 marks)\n",
        "\n",
        "1. Create a pandas DataFrame `results` with columns: Training accuracy and Validation accuracy, and index: DT, RF and GB\n",
        "2. Add the accuracy results to the `results` DataFrame\n",
        "3. Print `results`"
      ]
    },
    {
      "cell_type": "code",
      "execution_count": 17,
      "id": "fdc93a78",
      "metadata": {
        "id": "fdc93a78"
      },
      "outputs": [
        {
          "name": "stdout",
          "output_type": "stream",
          "text": [
            "dict_keys(['fit_time', 'score_time', 'test_score', 'train_score'])\n",
            "   Training Accuracy Validation Accuracy\n",
            "DT         47.918561          163.087775\n",
            "RF         32.055432          156.404972\n",
            "GB           3.73927           99.360259\n"
          ]
        }
      ],
      "source": [
        "# TO DO: ADD YOUR CODE HERE FOR STEPS 3-5\n",
        "# Note: for any random state parameters, you can use random_state = 0\n",
        "# HINT: USING A LOOP TO STORE THE DATA IN YOUR RESULTS DATAFRAME WILL BE MORE EFFICIENT\n",
        "#Import the decision tree, random forrest, and gradient boosting machines from sklearn and train test split\n",
        "from sklearn.tree import DecisionTreeRegressor\n",
        "from sklearn.ensemble import RandomForestRegressor, GradientBoostingRegressor\n",
        "from sklearn.model_selection import train_test_split\n",
        "\n",
        "DecisionTree= DecisionTreeRegressor(random_state=0, max_depth=5)\n",
        "RandomForest= RandomForestRegressor(random_state=0, max_depth=5)\n",
        "GradientBoosting= GradientBoostingRegressor(random_state=0, max_depth=5)\n",
        "\n",
        "x,Y= load_concrete()\n",
        "x_train, x_test, Y_train, Y_test= train_test_split(x,Y, test_size=0.2, random_state=0)\n",
        "\n",
        "#Train the models no need to fit\n",
        "# DecisionTree.fit(x,Y)\n",
        "# RandomForest.fit(x,Y)\n",
        "# GradientBoosting.fit(x,Y)\n",
        "\n",
        "#Calculate the average training and validation accuracy using MSE with cross validation. Using scoring = 'neg_mean_squared_error' in cross_validate function and negate the results (multiply by -1)\n",
        "\n",
        "from sklearn.model_selection import cross_validate\n",
        "from sklearn.metrics import mean_squared_error\n",
        "\n",
        "results= pd.DataFrame(columns=['DecisionTree', 'RandomForest', 'GradientBoosting'], index=range(10))\n",
        "\n",
        "#caculate the average training and validation accuracy using MSE with cross validation\n",
        "\n",
        "# Validate Model\n",
        "# Calculate the average training and validation accuracy using mean squared error with cross-validation\n",
        "scoring = 'neg_mean_squared_error'\n",
        "cv_results_decision_tree = cross_validate(DecisionTree, x, Y, scoring=scoring, return_train_score=True)\n",
        "cv_results_random_forest = cross_validate(RandomForest, x, Y, scoring=scoring, return_train_score=True)\n",
        "cv_results_gradient_boosting = cross_validate(GradientBoosting, x, Y, scoring=scoring, return_train_score=True)\n",
        "\n",
        "print(cv_results_decision_tree.keys())\n",
        "# Compute mean squared error for Decision Tree\n",
        "avg_train_mse_dt = -cv_results_decision_tree['train_score'].mean()\n",
        "avg_test_mse_dt = -cv_results_decision_tree['test_score'].mean()\n",
        "\n",
        "# Compute mean squared error for Random Forest\n",
        "avg_train_mse_rf = -cv_results_random_forest['train_score'].mean()\n",
        "avg_test_mse_rf = -cv_results_random_forest['test_score'].mean()\n",
        "\n",
        "# Compute mean squared error for Gradient Boosting\n",
        "avg_train_mse_gb = -cv_results_gradient_boosting['train_score'].mean()\n",
        "avg_test_mse_gb = -cv_results_gradient_boosting['test_score'].mean()\n",
        "\n",
        "# Step 5: Visualize Results\n",
        "# Create a pandas DataFrame results\n",
        "results = pd.DataFrame(columns=['Training Accuracy', 'Validation Accuracy'], index=['DT', 'RF', 'GB'])\n",
        "\n",
        "# Add the accuracy results to the results DataFrame\n",
        "results.loc['DT', 'Training Accuracy'] = avg_train_mse_dt\n",
        "results.loc['DT', 'Validation Accuracy'] = avg_test_mse_dt\n",
        "\n",
        "results.loc['RF', 'Training Accuracy'] = avg_train_mse_rf\n",
        "results.loc['RF', 'Validation Accuracy'] = avg_test_mse_rf\n",
        "\n",
        "results.loc['GB', 'Training Accuracy'] = avg_train_mse_gb\n",
        "results.loc['GB', 'Validation Accuracy'] = avg_test_mse_gb\n",
        "\n",
        "# Print results\n",
        "print(results)\n"
      ]
    },
    {
      "cell_type": "markdown",
      "id": "31715a9d",
      "metadata": {
        "id": "31715a9d"
      },
      "source": [
        "Repeat the step above to print the R2 score instead of the mean-squared error. For this case, you can use `scoring='r2'`.\n",
        "\n",
        "<font color='red'>\n",
        "Due to the similarity of this to the main part of step 5, this part is 0.5 and the main part of step 5 is 2.5 of the total 3 points for this step.\n",
        "</font>"
      ]
    },
    {
      "cell_type": "code",
      "execution_count": 18,
      "id": "83539f47",
      "metadata": {
        "id": "83539f47"
      },
      "outputs": [
        {
          "name": "stdout",
          "output_type": "stream",
          "text": [
            "R2 Score for Decision Tree:\n",
            "  Training: 0.8228872809524459\n",
            "  Testing: 0.1762104452178903\n",
            "\n",
            "R2 Score for Random Forest:\n",
            "  Training: 0.881221342371458\n",
            "  Testing: 0.1737480262274312\n",
            "\n",
            "R2 Score for Gradient Boosting:\n",
            "  Training: 0.9864362663137645\n",
            "  Testing: 0.4737008698990578\n"
          ]
        }
      ],
      "source": [
        "# TO DO: ADD YOUR CODE HERE\n",
        "# This would be similar to the main step, the main difference is the scoring.\n",
        "#Repeat the process before but now using scoring = 'r2' in cross_validate function\n",
        "\n",
        "# Validate Model\n",
        "# Validate Model\n",
        "# Calculate the average training and validation R2 score using cross-validation\n",
        "scoring = 'r2'\n",
        "decision_tree = DecisionTreeRegressor(random_state=0, max_depth=5)\n",
        "random_forest = RandomForestRegressor(random_state=0, max_depth=5)\n",
        "gradient_boosting = GradientBoostingRegressor(random_state=0, max_depth=5)\n",
        "\n",
        "cv_results_decision_tree = cross_validate(DecisionTree, x, Y, scoring=scoring, return_train_score=True)\n",
        "cv_results_random_forest = cross_validate(RandomForest, x, Y, scoring=scoring,  return_train_score=True)\n",
        "cv_results_gradient_boosting = cross_validate(GradientBoosting, x, Y, scoring=scoring,  return_train_score=True)\n",
        "\n",
        "# Compute R2 score for Decision Tree\n",
        "avg_train_r2_dt = cv_results_decision_tree['train_score'].mean()\n",
        "avg_test_r2_dt = cv_results_decision_tree['test_score'].mean()\n",
        "\n",
        "# Compute R2 score for Random Forest\n",
        "avg_train_r2_rf = cv_results_random_forest['train_score'].mean()\n",
        "avg_test_r2_rf = cv_results_random_forest['test_score'].mean()\n",
        "\n",
        "# Compute R2 score for Gradient Boosting\n",
        "avg_train_r2_gb = cv_results_gradient_boosting['train_score'].mean()\n",
        "avg_test_r2_gb = cv_results_gradient_boosting['test_score'].mean()\n",
        "\n",
        "# Print R2 scores\n",
        "print(\"R2 Score for Decision Tree:\")\n",
        "print(\"  Training:\", avg_train_r2_dt)\n",
        "print(\"  Testing:\", avg_test_r2_dt)\n",
        "print(\"\\nR2 Score for Random Forest:\")\n",
        "print(\"  Training:\", avg_train_r2_rf)\n",
        "print(\"  Testing:\", avg_test_r2_rf)\n",
        "print(\"\\nR2 Score for Gradient Boosting:\")\n",
        "print(\"  Training:\", avg_train_r2_gb)\n",
        "print(\"  Testing:\", avg_test_r2_gb)\n",
        "\n"
      ]
    },
    {
      "cell_type": "markdown",
      "id": "a5257a98",
      "metadata": {
        "id": "a5257a98"
      },
      "source": [
        "## Questions (6 marks)\n",
        "1. How do these results compare to the results using a linear model in the previous assignment? Use values.\n",
        "1. Out of the models you tested, which model would you select for this dataset and why?\n",
        "1. If you wanted to increase the accuracy of the tree-based models, what would you do? Provide two suggestions."
      ]
    },
    {
      "cell_type": "markdown",
      "id": "2PRnpiFjVDzv",
      "metadata": {
        "id": "2PRnpiFjVDzv"
      },
      "source": [
        "<font color='Green'><b>YOUR ANSWERS HERE</b></font>\n",
        "\n",
        "\n",
        "## How do these results compare to the results using a linear model in the previous assignment? Use values.\n",
        "\n",
        "These values are more accurate compared to previous lab. In the preivous lab with the load_concrete() dataset we trained a linear regression model with a test split of a test size of 0.2. This yielded a training MSE of 110.34550122934108 and a validation MSE of 95.63533482690428. The training accuracy had an R2 score of 0.6090710418548884 and a validation accuracy R2 score of 0.636898110341. Additionally, if we include the bonus models from the previous assignment such as the Ridge and Lasso. The alpha of 100 had the best R2 score was the Ridge model which yielded 0.6275577870808139. This model's respective Trainining and validation MSE was 151.885899 and 144.362742. This meant the model had a fairly good relationship with our model with regards to not overfitting, however, it had a very large MSE in both datasets.\n",
        " In comparison, in this lab our R2 for decision trees was 0.8228872809524459 for training and 0.1762104452178903 for testing. For random forest it was R2 Score 0.881221342371458 for training and 0.1737480262274312 for testing. For gradient boosting the training R2 score was 0.9864362663137645 and the testing R2 score was 0.4737008698990578. The MSE accuracies were as follows for decision trees the training accuracy was 47.918561 and had a validation accuracy of 163.087775. The Random forrest had a training accuracy MSE of 32.055432 and a validation accuracy MSE of 156.404972. The gradient boosting had a training accuracy MSE and validation accuracy MSE of 3.73927 and 99.360259 respectively. In these lab results the higher training R2 score and low validation R2 score may signify that there is overfitting from the training. This is supported further by the larger MSE in the validation datasets in comparison to the training datasets. The previous lab's had lower training R2 score but it was closer to the validation R2 Score of approximately 0.609 and 0.636. This model was less overfit and had comparable MSE performance in the validation dataset compared to this lab's model which had very low training MSE but very high validation MSE. \n",
        "\n",
        "## Out of the models you tested, which model would you select for this dataset and why?\n",
        "Out of the models tested in this lab, the gradient boosted model fits better for this dataset in my opinion since it has an R2-score that is 0.4737008698990578 on the validation dataset and the training R2-score was very high at 0.9864362663137645. This may signify over-fitting from the dataset however, it had the best performance in the validation dataset. The closer the R2-score is to 1 the better fit the model is for the datasets thus in my opinion it is still not optimal however, since the validation R2 score is still very low however, it is better than the other models created in this assignment. Additionally, the MSE accuracies between the decision tree, the random forest, and the gradient boosting showed that the gradient boosting had a lower MSE accuracy than the other models in both training and testing. This suggests that is a better model since it had a lower MSE accuracy. That being said, if we include the previous assignments models. This assignments' models are better since they have lower MSE accuracies in general. The lower R2 score may suggest slight overfitting.\n",
        "## If you wanted to increase the accuracy of the tree-based models, what would you do? Provide two suggestions.\n",
        "If I wanted to increase the accuracy of the tree based models I would increase the depth of the trees to enable more thorough feature classification. This would potentially lead to overfitting however, it would ensure a higher MSE accuracy in the training dataset. Additionally, it may potentially improve the accuracy for the testing until it reaches a certain depth level where it overfits. \n",
        "\n",
        "We could also try having an ensemble of decision trees which would lead to mitigated biases within the different models by weighting them out to mitigate biases and mitigating over and underfitting in these models. The different models could have different feature importance and thus lead to different predictions on top of having different depth levels. "
      ]
    },
    {
      "cell_type": "markdown",
      "id": "37b238f4",
      "metadata": {
        "id": "37b238f4"
      },
      "source": [
        "## Process Description (4 marks)\n",
        "Please describe the process you used to create your code. Cite any websites or generative AI tools used. You can use the following questions as guidance:\n",
        "1. Where did you source your code?\n",
        "1. In what order did you complete the steps?\n",
        "1. If you used generative AI, what prompts did you use? Did you need to modify the code at all? Why or why not?\n",
        "1. Did you have any challenges? If yes, what were they? If not, what helped you to be successful?"
      ]
    },
    {
      "cell_type": "markdown",
      "id": "93097bfe",
      "metadata": {
        "id": "93097bfe"
      },
      "source": [
        "<font color='Green'><b>DESCRIBE YOUR PROCESS HERE</b></font>\n",
        "## Where did you source your code?\n",
        "I sourced my code primarily from the content covered in the lab and I utilized the sklearn documentation online and in the library to better understand the purpose and the functionality of different hyperparameters, return_train_set and cv. I also utilized ChatGPT to better understand the how the cross validate works since I thought we still had to do a train_test_split originally.\n",
        "\n",
        "## In what order did you complete the steps\n",
        "\n",
        "I completed the steps in the order they were given since they built off each other. I had to import the modules and then load the dataset before I could even think about instantiating the model. I then did the cross_validate() function and then I presented the information in the results variable. I utilized a hyperparameter for the scoring with a value of 'neg_mean_squared_error' and later on I used 'r2' for the later portion of the assignment.\n",
        "\n",
        "## If you used generative AI, what prompts did you use? Did you need to modify the code at all? Why or why not?\n",
        "\n",
        "I utilized generative AI to better understand the way cross validate worked and understand the purpose of the parameters because I still had questions about how it worked so I asked it to give me an example and then I applied it to this example. I had to modify the example code it gave me to ensure I used the proper model and passed in the correct hyperparameters and later did the fitting correctly.\n",
        "\n",
        "## Did you have any challenges? If yes, what were they? If not, what helped you to be successful? \n",
        "\n",
        "I had challenges understanding how the cross validate function worked because I thought we had to do the train test split ourselves and also train our own model however, it is different. It helped to look at the documentation online with Sklearn and going back into the labs and referring to it there.\n"
      ]
    },
    {
      "cell_type": "code",
      "execution_count": null,
      "id": "4a0545c4",
      "metadata": {},
      "outputs": [],
      "source": []
    },
    {
      "cell_type": "code",
      "execution_count": null,
      "id": "29df4a35",
      "metadata": {},
      "outputs": [],
      "source": []
    },
    {
      "cell_type": "markdown",
      "id": "f7c6de86",
      "metadata": {
        "id": "f7c6de86"
      },
      "source": [
        "# **Part 2: Classification (17.5 marks)**\n",
        "\n",
        "You have been asked to develop code that can help the user classify different wine samples. Following the machine learning workflow described in class, write the relevant code in each of the steps below:"
      ]
    },
    {
      "cell_type": "markdown",
      "id": "5f9d33a8",
      "metadata": {
        "id": "5f9d33a8"
      },
      "source": [
        "## **Step 1:** Data Input (2 marks)\n",
        "\n",
        "The data used for this task can be downloaded from UCI: https://archive.ics.uci.edu/dataset/109/wine\n",
        "\n",
        "Use the pandas library to load the dataset. You must define the column headers if they are not included in the dataset\n",
        "\n",
        "You will need to split the dataset into feature matrix `X` and target vector `y`. Which column represents the target vector?\n",
        "\n",
        "Print the size and type of `X` and `y`"
      ]
    },
    {
      "cell_type": "code",
      "execution_count": 19,
      "id": "33583c67",
      "metadata": {
        "id": "33583c67"
      },
      "outputs": [
        {
          "name": "stdout",
          "output_type": "stream",
          "text": [
            "The size of the X is:  2314\n",
            "Alcohol                         float64\n",
            "Malicacid                       float64\n",
            "Ash                             float64\n",
            "Alcalinity_of_ash               float64\n",
            "Magnesium                         int64\n",
            "Total_phenols                   float64\n",
            "Flavanoids                      float64\n",
            "Nonflavanoid_phenols            float64\n",
            "Proanthocyanins                 float64\n",
            "Color_intensity                 float64\n",
            "Hue                             float64\n",
            "0D280_0D315_of_diluted_wines    float64\n",
            "Proline                           int64\n",
            "dtype: object\n",
            "The size of the y is:  178\n",
            "int64\n"
          ]
        }
      ],
      "source": [
        "import pandas as pd\n",
        "from ucimlrepo import fetch_ucirepo \n",
        "\n",
        "# Fetch the dataset and use pandas to load it\n",
        "wine = fetch_ucirepo(id=109)\n",
        "wine_df = pd.DataFrame(data=wine.data.features, columns=wine.metadata.features)\n",
        "wine_df['target'] = wine.data.targets\n",
        "\n",
        "# Display the DataFrame\n",
        "# print(wine_df.head())\n",
        "\n",
        "# # Metadata \n",
        "# print(wine.metadata)  # Description of the dataset\n",
        "\n",
        "# # Variable information \n",
        "# print(wine.variables)  # Information about the variables\n",
        "X = wine_df.drop('target', axis=1)\n",
        "y = wine_df['target']\n",
        "print(\"The size of the X is: \", X.size)\n",
        "print(X.dtypes)\n",
        "print(\"The size of the y is: \", y.size)\n",
        "print(y.dtypes)\n",
        "\n"
      ]
    },
    {
      "cell_type": "markdown",
      "id": "156db208",
      "metadata": {
        "id": "156db208"
      },
      "source": [
        "## **Step 2:** Data Processing (1.5 marks)"
      ]
    },
    {
      "cell_type": "markdown",
      "id": "a28af110",
      "metadata": {
        "id": "a28af110"
      },
      "source": [
        "Print the first five rows of the dataset to inspect:"
      ]
    },
    {
      "cell_type": "code",
      "execution_count": 20,
      "id": "ea266921",
      "metadata": {
        "id": "ea266921"
      },
      "outputs": [
        {
          "name": "stdout",
          "output_type": "stream",
          "text": [
            "   Alcohol  Malicacid   Ash  Alcalinity_of_ash  Magnesium  Total_phenols  \\\n",
            "0    14.23       1.71  2.43               15.6        127           2.80   \n",
            "1    13.20       1.78  2.14               11.2        100           2.65   \n",
            "2    13.16       2.36  2.67               18.6        101           2.80   \n",
            "3    14.37       1.95  2.50               16.8        113           3.85   \n",
            "4    13.24       2.59  2.87               21.0        118           2.80   \n",
            "\n",
            "   Flavanoids  Nonflavanoid_phenols  Proanthocyanins  Color_intensity   Hue  \\\n",
            "0        3.06                  0.28             2.29             5.64  1.04   \n",
            "1        2.76                  0.26             1.28             4.38  1.05   \n",
            "2        3.24                  0.30             2.81             5.68  1.03   \n",
            "3        3.49                  0.24             2.18             7.80  0.86   \n",
            "4        2.69                  0.39             1.82             4.32  1.04   \n",
            "\n",
            "   0D280_0D315_of_diluted_wines  Proline  target  \n",
            "0                          3.92     1065       1  \n",
            "1                          3.40     1050       1  \n",
            "2                          3.17     1185       1  \n",
            "3                          3.45     1480       1  \n",
            "4                          2.93      735       1  \n"
          ]
        }
      ],
      "source": [
        "# TO DO: ADD YOUR CODE HERE\n",
        "#print the first five rows of the dataset\n",
        "print(wine_df.head())"
      ]
    },
    {
      "cell_type": "markdown",
      "id": "834fc8fe",
      "metadata": {
        "id": "834fc8fe"
      },
      "source": [
        "Check to see if there are any missing values in the dataset. If necessary, select an appropriate method to fill-in the missing values"
      ]
    },
    {
      "cell_type": "code",
      "execution_count": 21,
      "id": "97c6e9dc",
      "metadata": {
        "id": "97c6e9dc"
      },
      "outputs": [
        {
          "name": "stdout",
          "output_type": "stream",
          "text": [
            "Alcohol                         0\n",
            "Malicacid                       0\n",
            "Ash                             0\n",
            "Alcalinity_of_ash               0\n",
            "Magnesium                       0\n",
            "Total_phenols                   0\n",
            "Flavanoids                      0\n",
            "Nonflavanoid_phenols            0\n",
            "Proanthocyanins                 0\n",
            "Color_intensity                 0\n",
            "Hue                             0\n",
            "0D280_0D315_of_diluted_wines    0\n",
            "Proline                         0\n",
            "target                          0\n",
            "dtype: int64\n"
          ]
        }
      ],
      "source": [
        "# TO DO: ADD YOUR CODE HERE\n",
        "# checking to see if there are any missing values in the dataset\n",
        "print(wine_df.isnull().sum())\n"
      ]
    },
    {
      "cell_type": "markdown",
      "id": "070956af",
      "metadata": {
        "id": "070956af"
      },
      "source": [
        "How many samples do we have of each type of wine?"
      ]
    },
    {
      "cell_type": "code",
      "execution_count": 22,
      "id": "b37a6fd9",
      "metadata": {
        "id": "b37a6fd9"
      },
      "outputs": [
        {
          "name": "stdout",
          "output_type": "stream",
          "text": [
            "2    71\n",
            "1    59\n",
            "3    48\n",
            "Name: target, dtype: int64\n"
          ]
        }
      ],
      "source": [
        "# TO DO: ADD YOUR CODE HERE\n",
        "#how many samples do we have of each type of wine?\n",
        "print(wine_df['target'].value_counts())"
      ]
    },
    {
      "cell_type": "markdown",
      "id": "70e6c46f",
      "metadata": {
        "id": "70e6c46f"
      },
      "source": [
        "## **Step 3:** Implement Machine Learning Model\n",
        "\n",
        "1. Import `SVC` and `DecisionTreeClassifier` from sklearn\n",
        "2. Instantiate models as `SVC()` and `DecisionTreeClassifier(max_depth = 3)`\n",
        "3. Implement the machine learning model with `X` and `y`"
      ]
    },
    {
      "cell_type": "markdown",
      "id": "0870b0d2",
      "metadata": {
        "id": "0870b0d2"
      },
      "source": [
        "## **Step 4:** Validate Model\n",
        "\n",
        "Calculate the average training and validation accuracy using `cross_validate` for the two different models listed in Step 3. For this case, use `scoring='accuracy'`"
      ]
    },
    {
      "cell_type": "markdown",
      "id": "bb0bbd83",
      "metadata": {
        "id": "bb0bbd83"
      },
      "source": [
        "## **Step 5:** Visualize Results (4 marks)\n",
        "\n",
        "<font color='red'>\n",
        "There is no individual mark for Steps 3 and 4 and those grades are included within the four points.\n",
        "\n",
        "</font>\n",
        "\n",
        "### **Step 5.1:** Compare Models (2 out of total 4 marks)\n",
        "1. Create a pandas DataFrame `results` with columns: Training accuracy and Validation accuracy\n",
        "2. Add the data size, training and validation accuracy for each dataset to the `results` DataFrame\n",
        "3. Print `results`"
      ]
    },
    {
      "cell_type": "code",
      "execution_count": 23,
      "id": "be4b5c0a",
      "metadata": {
        "id": "be4b5c0a"
      },
      "outputs": [
        {
          "name": "stdout",
          "output_type": "stream",
          "text": [
            "             Training Accuracy Validation Accuracy  Data Size\n",
            "SVC                   0.703743            0.663492      178.0\n",
            "DecisionTree          0.974756            0.893175      178.0\n"
          ]
        }
      ],
      "source": [
        "# TO DO: ADD YOUR CODE HERE FOR STEPS 3-5\n",
        "# Note: for any random state parameters, you can use random_state = 0\n",
        "# HINT: USING A LOOP TO STORE THE DATA IN YOUR RESULTS DATAFRAME WILL BE MORE EFFICIENT\n",
        "## **Step 3:** Implement Machine Learning Model\n",
        "\n",
        "# 1. Import `SVC` and `DecisionTreeClassifier` from sklearn\n",
        "# 2. Instantiate models as `SVC()` and `DecisionTreeClassifier(max_depth = 3)`\n",
        "# 3. Implement the machine learning model with `X` and `y`\n",
        "\n",
        "# Calculate the average training and validation accuracy using `cross_validate` for the two different models listed in Step 3. For this case, use `scoring='accuracy'`\n",
        "# 1. Create a pandas DataFrame `results` with columns: Training accuracy and Validation accuracy\n",
        "# 2. Add the data size, training and validation accuracy for each dataset to the `results` DataFrame\n",
        "# 3. Print `results`\n",
        "\n",
        "from sklearn.svm import SVC\n",
        "from sklearn.tree import DecisionTreeClassifier\n",
        "\n",
        "# instantiate models\n",
        "svc = SVC(random_state=0)\n",
        "dt = DecisionTreeClassifier(max_depth=3, random_state=0)\n",
        "\n",
        "# Implement the machine learning model with `X` and `y`\n",
        "X = wine_df.drop('target', axis=1)\n",
        "y = wine_df['target']\n",
        "\n",
        "\n",
        "from sklearn.model_selection import cross_validate\n",
        "\n",
        "SVC_results = cross_validate(svc, X, y, scoring='accuracy', return_train_score=True)\n",
        "DT_rsults = cross_validate(dt, X, y, scoring='accuracy', return_train_score=True)\n",
        "\n",
        "# Create a pandas DataFrame `results` with columns: Training accuracy and Validation accuracy\n",
        "results = pd.DataFrame(columns=['Training Accuracy', 'Validation Accuracy'], index=['SVC', 'DecisionTree'])\n",
        "\n",
        "#add the data size, training and validation accuracy for each dataset to the `results` DataFrame\n",
        "results.loc['SVC', 'Training Accuracy'] = SVC_results['train_score'].mean()\n",
        "results.loc['SVC', 'Validation Accuracy'] = SVC_results['test_score'].mean()\n",
        "results.loc['SVC', 'Data Size'] = len(X) # Adding data size for SVC\n",
        "\n",
        "results.loc['DecisionTree', 'Training Accuracy'] = DT_rsults['train_score'].mean()\n",
        "results.loc['DecisionTree', 'Validation Accuracy'] = DT_rsults['test_score'].mean()\n",
        "results.loc['DecisionTree', 'Data Size'] = len(X)#\n",
        "\n",
        "print(results)"
      ]
    },
    {
      "cell_type": "markdown",
      "id": "f2e17878",
      "metadata": {
        "id": "f2e17878"
      },
      "source": [
        "### **Step 5.2:** Visualize Classification Errors  (2 out of total 4 marks)\n",
        "Which method gave the highest accuracy? Use this method to print the confusion matrix and classification report:\n",
        "\n",
        "The model which gave the highest accuracy was the decision tree as shown above its training accuracy was 0.974756 and validation accuracy was 0.893175. This is comparatively better than the SVC model which had a training accuracy of 0.703743 and a validation accuracy of 0.663492. Therefore, I will be using the decision tree model.\n"
      ]
    },
    {
      "cell_type": "code",
      "execution_count": 24,
      "id": "44b091a4",
      "metadata": {
        "id": "44b091a4"
      },
      "outputs": [],
      "source": [
        "# TO DO: Implement best model\n",
        "\n",
        "dt = DecisionTreeClassifier(max_depth=3, random_state=0)\n",
        "X = wine_df.drop('target', axis=1)\n",
        "y = wine_df['target']\n",
        "\n",
        "X_train,x_test,Y_train,Y_test= train_test_split(X,y, test_size=0.2, random_state=0)\n",
        "\n",
        "dt.fit(X_train,Y_train)\n",
        "\n",
        "y_predict_dt = dt.predict(x_test)\n",
        "\n",
        "\n",
        "\n",
        "\n"
      ]
    },
    {
      "cell_type": "code",
      "execution_count": 25,
      "id": "09d21b59",
      "metadata": {
        "id": "09d21b59"
      },
      "outputs": [
        {
          "data": {
            "image/png": "[encoded data removed]",
            "text/plain": [
              "<Figure size 1200x500 with 4 Axes>"
            ]
          },
          "metadata": {},
          "output_type": "display_data"
        }
      ],
      "source": [
        "# Train Decision Tree Classifier\n",
        "dt.fit(X_train, Y_train)\n",
        "\n",
        "# Make predictions for both training and test data\n",
        "y_predict_dt_train = dt.predict(X_train)\n",
        "y_predict_dt_test = dt.predict(X_test)\n",
        "\n",
        "# Plot confusion matrix for training data\n",
        "plt.figure(figsize=(12, 5))\n",
        "plt.subplot(1, 2, 1)\n",
        "plt.title('Confusion Matrix for Decision Tree (Training Data)')\n",
        "sns.heatmap(confusion_matrix(Y_train, y_predict_dt_train), annot=True, cmap='Blues', fmt='g')\n",
        "plt.xlabel('Predicted Labels')\n",
        "plt.ylabel('True Labels')\n",
        "\n",
        "# Plot confusion matrix for test data\n",
        "plt.subplot(1, 2, 2)\n",
        "plt.title('Confusion Matrix for Decision Tree (Test Data)')\n",
        "sns.heatmap(confusion_matrix(Y_test, y_predict_dt_test), annot=True, cmap='Blues', fmt='g')\n",
        "plt.xlabel('Predicted Labels')\n",
        "plt.ylabel('True Labels')\n",
        "\n",
        "plt.tight_layout()\n",
        "plt.show()\n",
        "\n",
        "# # Print classification report for Decision Tree\n",
        "# print(\"Classification Report for Decision Tree (Test Data)\")\n",
        "# print(classification_report(Y_test, y_predict_dt_test))\n",
        "\n",
        "\n",
        "\n",
        "\n",
        "\n"
      ]
    },
    {
      "cell_type": "code",
      "execution_count": 26,
      "id": "5ef95947",
      "metadata": {
        "id": "5ef95947"
      },
      "outputs": [
        {
          "name": "stdout",
          "output_type": "stream",
          "text": [
            "Classification Report for Decision Tree (Validation Data)\n",
            "              precision    recall  f1-score   support\n",
            "\n",
            "           1       0.93      1.00      0.97        14\n",
            "           2       1.00      0.94      0.97        16\n",
            "           3       1.00      1.00      1.00         6\n",
            "\n",
            "    accuracy                           0.97        36\n",
            "   macro avg       0.98      0.98      0.98        36\n",
            "weighted avg       0.97      0.97      0.97        36\n",
            "\n"
          ]
        }
      ],
      "source": [
        "# TO DO: Print classification report\n",
        "from sklearn.metrics import classification_report\n",
        "print(\"Classification Report for Decision Tree (Validation Data)\")\n",
        "print(classification_report(Y_test, y_predict_dt))\n",
        "\n"
      ]
    },
    {
      "cell_type": "markdown",
      "id": "bf319621",
      "metadata": {
        "id": "bf319621"
      },
      "source": [
        "## Questions (6 marks)\n",
        "1. How do the training and validation accuracy change depending on the method used? Explain with values.\n",
        "1. What are two reasons why the support vector machines model did not work as well as the tree-based model?\n",
        "1. How many samples were incorrectly classified in step 5.2?\n",
        "1. In this case, is maximizing precision or recall more important? Why?"
      ]
    },
    {
      "cell_type": "markdown",
      "id": "1FQstcwnXXng",
      "metadata": {
        "id": "1FQstcwnXXng"
      },
      "source": [
        "\n",
        "<font color='Green'><b>YOUR ANSWERS HERE</b></font>\n",
        "\n",
        "## How do the training and validation accuracy change depending on the method used? Explain with values.\n",
        "The training and validation accuracy change depending on the model utilized and also the metric used to quantify it. In part 2 of this lab we looked at the SVC and the decision tree model implementation on the wine dataset we got online. The SVC model on this data set gave a training accuracy of 0.703743 and a validation accuracy of 0.663492. The decision tree gave a training accuracy of 0.974756 and a validation accuracy of 0.893175. This demonstrated that the decision tree performed better on the training and validation data sets. This signifies the decision tree did not necessarily over fit the test dataset or underfit it either since it has a high training accuracy. That being said the SVC model gave a training accuracy that was reasonably high and a validation accuracy that was slightly lower. Thus the SVC was less fit than the decision tree.\n",
        "\n",
        "## What are two reasons why the support vector machines model did not work as well as the tree-based model?\n",
        "The SVC model works by essentially splitting the feature vectors into regions of the vector where it is classified by a certain region of space respective to the model's predictive outcome. However, decision trees goes through several feature classifications until a value is determined. Thus the choice of the model depends on the dataset. SVM could have potentially worked better if better selection of hyper parameters were chosen such as the C parameter, the choice of kernel, and the gamma variable. Decision trees are easier to set up to get working faster and in a more interpretable way. This may be why at first set up the decision trees performed better. That being said perhaps if we tweaked the parameters more the outcome would be better. The larger the dataset the harder SVM models are to generate due to massive amounts of features and then very fine tuning requried for the hyperparameters. Another potential cause of this is an imbalance in data sets between classes. This could cause an inaccurate model to be made with the SVM which requires much more data and better computation. Additionally a third reason could be due to noise within the data which affects the SVM model more than the tree-based models.\n",
        "\n",
        "## How many samples were incorrectly classified in step 5.2?\n",
        "In step 5.2, 1 sample was incorrectly classified out of 36 samples. It labeled it as wine #0 when it was actually #1.\n",
        "\n",
        "## In this case, is maximizing precision or recall more important? Why? \n",
        "In this case for classification of wine I think its most important to maximize precision. This would minimize the amount of false positives. Where positive is correctly categorizing the type of wine and negative is incorrectly categorizing the type of wine. This is important depending on the scenario. Maximizing recall minimizes the amount of false negatives. It is more important to reduce the amount of false positives to ensure that proper categorization is occurring when classifying the wine."
      ]
    },
    {
      "cell_type": "code",
      "execution_count": null,
      "id": "b55a10bf",
      "metadata": {},
      "outputs": [],
      "source": []
    },
    {
      "cell_type": "code",
      "execution_count": null,
      "id": "ffe6fab6",
      "metadata": {},
      "outputs": [],
      "source": []
    },
    {
      "cell_type": "markdown",
      "id": "664ff8ae",
      "metadata": {
        "id": "664ff8ae"
      },
      "source": [
        "## Process Description (4 marks)\n",
        "Please describe the process you used to create your code. Cite any websites or generative AI tools used. You can use the following questions as guidance:\n",
        "1. Where did you source your code?\n",
        "1. In what order did you complete the steps?\n",
        "1. If you used generative AI, what prompts did you use? Did you need to modify the code at all? Why or why not?\n",
        "1. Did you have any challenges? If yes, what were they? If not, what helped you to be successful?\n",
        "\n"
      ]
    },
    {
      "cell_type": "markdown",
      "id": "d0e837da",
      "metadata": {
        "id": "d0e837da"
      },
      "source": [
        "<font color='Green'><b>DESCRIBE YOUR PROCESS HERE</b></font> \n",
        "## Where did you source your code?\n",
        "I sourced my code from the labs with regards to making the heat map and I looked at the sklearn documentation to find more information about SVC. I also referred to the lecture slides for the tree-model and the SVC.\n",
        "\n",
        "## In what order did you complete the steps?\n",
        "I completed the steps in the order they were given since its necessary to fit the model from a dataset prior to being able to make a heat map (confusion matrix) from the predicted values of a test set. \n",
        "\n",
        "## If you used generative AI, what prompts did you use? Did you need to modify the code at all? Why or why not?\n",
        "I did not use generative AI for this code segment, a lot of the code was similar to previous examples.\n",
        "\n",
        "## Did you have any challenges? If yes, what were they? If not, what helped you to be successful? \n",
        "\n",
        "I struggled finding out what the precision and recall metrics were however, I referred to the lecture slides to find more information about them. I also faced challenges importing the data set originally and figured out a way to do it with Python and then load it. "
      ]
    },
    {
      "cell_type": "markdown",
      "id": "4cd7358d",
      "metadata": {
        "id": "4cd7358d"
      },
      "source": [
        "# **Part 3: Observations/Interpretation (3 marks)**\n",
        "\n",
        "Describe any pattern you see in the results. Relate your findings to what we discussed during lectures. Include data to justify your findings."
      ]
    },
    {
      "cell_type": "markdown",
      "id": "F3ifv218XL62",
      "metadata": {
        "id": "F3ifv218XL62"
      },
      "source": [
        "<font color='Green'><b>\n",
        "ADD YOUR FINDINGS HERE\n",
        "</b></font>\n",
        "\n",
        "A pattern I see in the results is that not always the more complex and intricate model will yield the best and most accurate model. Often, more intricate models require more fine tuning to yield better results. This is evident through the comparison of the SVC and decision tree. The decision tree is a significantly simpler model however, it did better. In my opinion this could be attributed to the necessity of hyperparameter tuning in SVC which is not as important in the tree-model. The SVC model on this data set gave a training accuracy of 0.703743 and a validation accuracy of 0.663492. The decision tree gave a training accuracy of 0.974756 and a validation accuracy of 0.893175.\n",
        "Another pattern seen in this lab is that it takes time to fine tune models and they cannot simply be discarded at first glance. This was evident with the first exercise. In this example, the gradient boosting was better than the other examples because it had an R2-score that is 0.4737008698990578 on the validation dataset and the training R2-score was very high at 0.9864362663137645. This demonstrates that the right model depends on the parameters used for it, its relevance to the dataset type, and also the precision of noise. These factors are crucial to take into account when creating a model. Often times, we must balance out under and over fitting through tweaking parameters. "
      ]
    },
    {
      "cell_type": "markdown",
      "id": "cd97b6ac",
      "metadata": {
        "id": "cd97b6ac"
      },
      "source": [
        "## **Part 4:** Reflection (2 marks)\n",
        "Include a sentence or two about:\n",
        "- what you liked or disliked,\n",
        "- found interesting, confusing, challangeing, motivating\n",
        "while working on this assignment."
      ]
    },
    {
      "cell_type": "markdown",
      "id": "c31f9bdd",
      "metadata": {},
      "source": [
        "I loved this lab because it gave us hands on examples creating models and confusion matrices to present the information. I found it motivating to learn more about machine learning. I would love to create a bigger project with assignment guidance on facial recognition or larger topics. I really enjoy these assignments :) . "
      ]
    },
    {
      "cell_type": "markdown",
      "id": "f3368782",
      "metadata": {},
      "source": []
    },
    {
      "cell_type": "markdown",
      "id": "tDFYc89YXQGJ",
      "metadata": {
        "id": "tDFYc89YXQGJ"
      },
      "source": [
        "<font color='Green'><b>\n",
        "ADD YOUR THOUGHTS HERE\n",
        "</b></font>"
      ]
    },
    {
      "cell_type": "markdown",
      "id": "fa21e53b",
      "metadata": {
        "id": "fa21e53b"
      },
      "source": [
        "## **Part 5:** Bonus Question (3 marks)\n",
        "\n",
        "Repeat Part 2 and compare the support vector machines model used to `LinearSVC(max_iter=5000)`. Does using `LinearSVC` improve the results? Why or why not?\n",
        "\n",
        "Is `LinearSVC` a good fit for this dataset? Why or why not?"
      ]
    },
    {
      "cell_type": "code",
      "execution_count": 27,
      "id": "30fea72e",
      "metadata": {
        "id": "30fea72e"
      },
      "outputs": [
        {
          "name": "stderr",
          "output_type": "stream",
          "text": [
            "c:\\Users\\de_ro\\AppData\\Local\\Programs\\Python\\Python39\\lib\\site-packages\\sklearn\\svm\\_classes.py:32: FutureWarning: The default value of `dual` will change from `True` to `'auto'` in 1.5. Set the value of `dual` explicitly to suppress the warning.\n",
            "  warnings.warn(\n",
            "c:\\Users\\de_ro\\AppData\\Local\\Programs\\Python\\Python39\\lib\\site-packages\\sklearn\\svm\\_base.py:1250: ConvergenceWarning: Liblinear failed to converge, increase the number of iterations.\n",
            "  warnings.warn(\n",
            "c:\\Users\\de_ro\\AppData\\Local\\Programs\\Python\\Python39\\lib\\site-packages\\sklearn\\svm\\_classes.py:32: FutureWarning: The default value of `dual` will change from `True` to `'auto'` in 1.5. Set the value of `dual` explicitly to suppress the warning.\n",
            "  warnings.warn(\n",
            "c:\\Users\\de_ro\\AppData\\Local\\Programs\\Python\\Python39\\lib\\site-packages\\sklearn\\svm\\_base.py:1250: ConvergenceWarning: Liblinear failed to converge, increase the number of iterations.\n",
            "  warnings.warn(\n",
            "c:\\Users\\de_ro\\AppData\\Local\\Programs\\Python\\Python39\\lib\\site-packages\\sklearn\\svm\\_classes.py:32: FutureWarning: The default value of `dual` will change from `True` to `'auto'` in 1.5. Set the value of `dual` explicitly to suppress the warning.\n",
            "  warnings.warn(\n"
          ]
        },
        {
          "name": "stderr",
          "output_type": "stream",
          "text": [
            "c:\\Users\\de_ro\\AppData\\Local\\Programs\\Python\\Python39\\lib\\site-packages\\sklearn\\svm\\_base.py:1250: ConvergenceWarning: Liblinear failed to converge, increase the number of iterations.\n",
            "  warnings.warn(\n",
            "c:\\Users\\de_ro\\AppData\\Local\\Programs\\Python\\Python39\\lib\\site-packages\\sklearn\\svm\\_classes.py:32: FutureWarning: The default value of `dual` will change from `True` to `'auto'` in 1.5. Set the value of `dual` explicitly to suppress the warning.\n",
            "  warnings.warn(\n",
            "c:\\Users\\de_ro\\AppData\\Local\\Programs\\Python\\Python39\\lib\\site-packages\\sklearn\\svm\\_base.py:1250: ConvergenceWarning: Liblinear failed to converge, increase the number of iterations.\n",
            "  warnings.warn(\n",
            "c:\\Users\\de_ro\\AppData\\Local\\Programs\\Python\\Python39\\lib\\site-packages\\sklearn\\svm\\_classes.py:32: FutureWarning: The default value of `dual` will change from `True` to `'auto'` in 1.5. Set the value of `dual` explicitly to suppress the warning.\n",
            "  warnings.warn(\n",
            "c:\\Users\\de_ro\\AppData\\Local\\Programs\\Python\\Python39\\lib\\site-packages\\sklearn\\svm\\_base.py:1250: ConvergenceWarning: Liblinear failed to converge, increase the number of iterations.\n",
            "  warnings.warn(\n",
            "c:\\Users\\de_ro\\AppData\\Local\\Programs\\Python\\Python39\\lib\\site-packages\\sklearn\\svm\\_classes.py:32: FutureWarning: The default value of `dual` will change from `True` to `'auto'` in 1.5. Set the value of `dual` explicitly to suppress the warning.\n",
            "  warnings.warn(\n"
          ]
        },
        {
          "name": "stdout",
          "output_type": "stream",
          "text": [
            "             Training Accuracy Validation Accuracy  Data Size\n",
            "SVCLinear             0.880725            0.921746      178.0\n",
            "DecisionTree          0.974756            0.893175      178.0\n"
          ]
        },
        {
          "name": "stderr",
          "output_type": "stream",
          "text": [
            "c:\\Users\\de_ro\\AppData\\Local\\Programs\\Python\\Python39\\lib\\site-packages\\sklearn\\svm\\_base.py:1250: ConvergenceWarning: Liblinear failed to converge, increase the number of iterations.\n",
            "  warnings.warn(\n"
          ]
        },
        {
          "data": {
            "image/png": "[encoded data removed]",
            "text/plain": [
              "<Figure size 1000x700 with 2 Axes>"
            ]
          },
          "metadata": {},
          "output_type": "display_data"
        },
        {
          "name": "stdout",
          "output_type": "stream",
          "text": [
            "Classification Report for Linear SVC\n",
            "              precision    recall  f1-score   support\n",
            "\n",
            "           1       1.00      0.93      0.96        14\n",
            "           2       0.94      0.94      0.94        16\n",
            "           3       0.86      1.00      0.92         6\n",
            "\n",
            "    accuracy                           0.94        36\n",
            "   macro avg       0.93      0.96      0.94        36\n",
            "weighted avg       0.95      0.94      0.94        36\n",
            "\n"
          ]
        }
      ],
      "source": [
        "from sklearn.svm import LinearSVC\n",
        "from sklearn.tree import DecisionTreeClassifier\n",
        "from sklearn.model_selection import cross_validate\n",
        "from sklearn.model_selection import train_test_split\n",
        "from sklearn.metrics import confusion_matrix\n",
        "from sklearn.metrics import classification_report\n",
        "import pandas as pd\n",
        "import matplotlib.pyplot as plt\n",
        "import seaborn as sns\n",
        "\n",
        "# Instantiate models\n",
        "svc = LinearSVC(max_iter=5000, random_state=0)\n",
        "dt = DecisionTreeClassifier(max_depth=3, random_state=0)\n",
        "\n",
        "# Implement the machine learning model with `X` and `y`\n",
        "X = wine_df.drop('target', axis=1)\n",
        "y = wine_df['target']\n",
        "\n",
        "# Calculate the average training and validation accuracy using `cross_validate` for the two different models\n",
        "SVC_results = cross_validate(svc, X, y, scoring='accuracy', return_train_score=True)\n",
        "DT_results = cross_validate(dt, X, y, scoring='accuracy', return_train_score=True)\n",
        "\n",
        "# Create a pandas DataFrame `results` with columns: Training accuracy and Validation accuracy\n",
        "results = pd.DataFrame(columns=['Training Accuracy', 'Validation Accuracy'], index=['SVCLinear', 'DecisionTree'])\n",
        "\n",
        "# Add the data size, training, and validation accuracy for each dataset to the `results` DataFrame\n",
        "results.loc['SVCLinear', 'Training Accuracy'] = SVC_results['train_score'].mean()\n",
        "results.loc['SVCLinear', 'Validation Accuracy'] = SVC_results['test_score'].mean()\n",
        "results.loc['SVCLinear', 'Data Size'] = len(X)  # Adding data size for SVC\n",
        "\n",
        "results.loc['DecisionTree', 'Training Accuracy'] = DT_results['train_score'].mean()\n",
        "results.loc['DecisionTree', 'Validation Accuracy'] = DT_results['test_score'].mean()\n",
        "results.loc['DecisionTree', 'Data Size'] = len(X)  # Adding data size for DecisionTree\n",
        "\n",
        "print(results)\n",
        "\n",
        "# Train Decision Tree Classifier and make predictions\n",
        "\n",
        "svc = LinearSVC(max_iter=5000, random_state=0)\n",
        "X_train, X_test, y_train, y_test = train_test_split(X, y, test_size=0.2, random_state=0)\n",
        "svc.fit(X_train, y_train)\n",
        "y_predict_svc = svc.predict(X_test)\n",
        "\n",
        "# Plot confusion matrix for Decision Tree\n",
        "plt.figure(figsize=(10, 7))\n",
        "plt.title('Confusion Matrix for LinearSVC (max_iter=5000)')\n",
        "sns.heatmap(confusion_matrix(y_test, y_predict_svc), annot=True, cmap='Blues', fmt='g')\n",
        "plt.xlabel('Predicted Labels')\n",
        "plt.ylabel('True Labels')\n",
        "plt.tight_layout()\n",
        "plt.show()\n",
        "\n",
        "# Print classification report for Decision Tree\n",
        "print(\"Classification Report for Linear SVC\")\n",
        "print(classification_report(y_test, y_predict_svc))\n"
      ]
    },
    {
      "cell_type": "code",
      "execution_count": null,
      "id": "f49464bd",
      "metadata": {},
      "outputs": [],
      "source": []
    },
    {
      "cell_type": "markdown",
      "id": "aabc68a4",
      "metadata": {
        "id": "aabc68a4"
      },
      "source": [
        " ## Does using `LinearSVC` improve the results? Why or why not?\n",
        "Using the linearSVC improved the results when looking at the confusion matrix. This is evident because there are very few false negatives and false positives. This was a result of adding a higher iteration for the SVC model. Additionally, the training and validation accuracy are significantly better than they were before. The new accuracy values are  0.880725 and 0.921746 for training and validation respectively. Prior to this the old SVC model had the following results  respectively, 0.703743 and 0.663492. This demosntrates an increased performance. The SVC has a better performance on the validation dataset than the LinearSVC. This may suggest that it is potentially a better model now despite a slightly lower performance on the training dataset, this shows that it is not over or underfitting the model. The model only yielded 2 false positives for wines #0 and #1. \n",
        "## Is `LinearSVC` a good fit for this dataset? Why or why not?\n",
        "Linear SVC is a good fit for this dataset because it demonstrates signifcant improvement that leads to very good validation performance as explained above. Perhaps tweaking the hyperparameters more could improve it or potentially examining the outliers in the dataset which could cause this. More testing with more data is necessary. That being said the Linear SVC due to the higher depth requires a hihger compute than the tree-model originally which had pretty good performance so it depends on the applicability of this dataset for larger datasets and the precision and recall required."
      ]
    }
  ],
  "metadata": {
    "colab": {
      "provenance": []
    },
    "kernelspec": {
      "display_name": "Python 3 (ipykernel)",
      "language": "python",
      "name": "python3"
    },
    "language_info": {
      "codemirror_mode": {
        "name": "ipython",
        "version": 3
      },
      "file_extension": ".py",
      "mimetype": "text/x-python",
      "name": "python",
      "nbconvert_exporter": "python",
      "pygments_lexer": "ipython3",
      "version": "3.9.7"
    }
  },
  "nbformat": 4,
  "nbformat_minor": 5
}
