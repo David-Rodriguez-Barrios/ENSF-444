{
  "cells": [
    {
      "cell_type": "markdown",
      "id": "XOOs70pZsAKF",
      "metadata": {
        "id": "XOOs70pZsAKF"
      },
      "source": [
        "<font size=\"+3\"><b>Final Project: PCA and Clustering\n",
        "</b></font>\n",
        "\n",
        "***\n",
        "* **Full Name** = David Rodriguez\n",
        "* **UCID** = 30145288\n",
        "***"
      ]
    },
    {
      "cell_type": "markdown",
      "id": "ba7f05d0",
      "metadata": {
        "id": "ba7f05d0"
      },
      "source": [
        "<font color='Blue'>\n",
        "The purpose of this assignment is to practice using PCA and clustering techniques on a given dataset.\n",
        "</font>"
      ]
    },
    {
      "cell_type": "markdown",
      "id": "-zeSnLrGawW2",
      "metadata": {
        "id": "-zeSnLrGawW2"
      },
      "source": [
        "<font color='Red'>\n",
        "For this assignment, in addition to your .ipynb file, please also attach a PDF file. To generate this PDF file, you can use the print function (located under the \"File\" within Jupyter Notebook). Name this file ENGG444_Final_Project_yourUCID.pdf (this name is similar to your main .ipynb file). We will evaluate your assignment based on the two files and you need to provide both.\n",
        "</font>\n",
        "\n",
        "\n",
        "|                 **Question**                | **Point(s)** |\n",
        "|:-------------------------------------------:|:------------:|\n",
        "| **1. Principle Component   Analysis (PCA)** |              |\n",
        "|                     1.1                     |       3      |\n",
        "|                     1.2                     |       2      |\n",
        "|                     1.3                     |       2      |\n",
        "|                     1.4                     |       3      |\n",
        "|                     1.5                     |       6      |\n",
        "|                     1.6                     |       2      |\n",
        "|         **2. Pipeline and Modeling**        |              |\n",
        "|                     2.1                     |       3      |\n",
        "|                     2.2                     |       2      |\n",
        "|                     2.3                     |       2      |\n",
        "|                     2.4                     |       3      |\n",
        "|            **3. Bonus Question**            |     **2**    |\n",
        "|                    Total                    |      28      |"
      ]
    },
    {
      "cell_type": "markdown",
      "id": "fe7cfa4f",
      "metadata": {
        "id": "fe7cfa4f"
      },
      "source": [
        "## Data\n",
        "\n",
        "The data on [this page](https://archive.ics.uci.edu/dataset/236/seeds) pertains to a study on wheat kernels, specifically focusing on the geometrical properties of kernels from three different wheat varieties: Kama, Rosa, and Canadian. Here's a summary of the key points:\n",
        "\n",
        "- **Dataset Characteristics**: The data is multivariate and real-valued, used for classification and clustering tasks in biology.\n",
        "- **Measurement Technique**: A soft X-ray technique was employed for high-quality visualization of the internal kernel structure, which is non-destructive and cost-effective compared to other methods.\n",
        "- **Geometric Parameters**: Seven parameters were measured for each kernel: area (A), perimeter (P), compactness (C = 4*pi*A/P^2), length, width, asymmetry coefficient, and length of kernel groove.\n",
        "- **Research Purpose**: The dataset facilitates the analysis of features in X-ray images of wheat kernels and can be applied to various statistical and machine learning tasks.\n",
        "\n",
        "This dataset was collected for an experiment conducted at the Institute of Agrophysics of the Polish Academy of Sciences in Lublin and has been cited in several research papers for its application in feature analysis and classification algorithms."
      ]
    },
    {
      "cell_type": "code",
      "execution_count": 2,
      "id": "uhbvQcUgaP1B",
      "metadata": {
        "id": "uhbvQcUgaP1B"
      },
      "outputs": [],
      "source": [
        "# Download the zip file using PowerShell\n",
        "!powershell -command \"& {Invoke-WebRequest -Uri 'https://archive.ics.uci.edu/static/public/236/seeds.zip' -OutFile 'seeds.zip'}\"\n",
        "\n",
        "# Unzip seeds_dataset.txt from the downloaded zip file using PowerShell\n",
        "!powershell -command \"& {Expand-Archive -Path 'seeds.zip' -DestinationPath './' -Force}\"\n",
        "\n",
        "# Remove the downloaded zip file after extraction using PowerShell\n",
        "!powershell -command \"& {Remove-Item 'seeds.zip'}\"\n"
      ]
    },
    {
      "cell_type": "code",
      "execution_count": 3,
      "id": "474481f1",
      "metadata": {
        "id": "474481f1"
      },
      "outputs": [
        {
          "data": {
            "text/html": [
              "<div>\n",
              "<style scoped>\n",
              "    .dataframe tbody tr th:only-of-type {\n",
              "        vertical-align: middle;\n",
              "    }\n",
              "\n",
              "    .dataframe tbody tr th {\n",
              "        vertical-align: top;\n",
              "    }\n",
              "\n",
              "    .dataframe thead th {\n",
              "        text-align: right;\n",
              "    }\n",
              "</style>\n",
              "<table border=\"1\" class=\"dataframe\">\n",
              "  <thead>\n",
              "    <tr style=\"text-align: right;\">\n",
              "      <th></th>\n",
              "      <th>Area</th>\n",
              "      <th>Perimeter</th>\n",
              "      <th>Compactness</th>\n",
              "      <th>Length of Kernel</th>\n",
              "      <th>Width of Kernel</th>\n",
              "      <th>Asymmetry Coefficient</th>\n",
              "      <th>Length of Kernel Groove</th>\n",
              "      <th>Type</th>\n",
              "    </tr>\n",
              "  </thead>\n",
              "  <tbody>\n",
              "    <tr>\n",
              "      <th>0</th>\n",
              "      <td>15.26</td>\n",
              "      <td>14.84</td>\n",
              "      <td>0.8710</td>\n",
              "      <td>5.763</td>\n",
              "      <td>3.312</td>\n",
              "      <td>2.221</td>\n",
              "      <td>5.220</td>\n",
              "      <td>1</td>\n",
              "    </tr>\n",
              "    <tr>\n",
              "      <th>1</th>\n",
              "      <td>14.88</td>\n",
              "      <td>14.57</td>\n",
              "      <td>0.8811</td>\n",
              "      <td>5.554</td>\n",
              "      <td>3.333</td>\n",
              "      <td>1.018</td>\n",
              "      <td>4.956</td>\n",
              "      <td>1</td>\n",
              "    </tr>\n",
              "    <tr>\n",
              "      <th>2</th>\n",
              "      <td>14.29</td>\n",
              "      <td>14.09</td>\n",
              "      <td>0.9050</td>\n",
              "      <td>5.291</td>\n",
              "      <td>3.337</td>\n",
              "      <td>2.699</td>\n",
              "      <td>4.825</td>\n",
              "      <td>1</td>\n",
              "    </tr>\n",
              "    <tr>\n",
              "      <th>3</th>\n",
              "      <td>13.84</td>\n",
              "      <td>13.94</td>\n",
              "      <td>0.8955</td>\n",
              "      <td>5.324</td>\n",
              "      <td>3.379</td>\n",
              "      <td>2.259</td>\n",
              "      <td>4.805</td>\n",
              "      <td>1</td>\n",
              "    </tr>\n",
              "    <tr>\n",
              "      <th>4</th>\n",
              "      <td>16.14</td>\n",
              "      <td>14.99</td>\n",
              "      <td>0.9034</td>\n",
              "      <td>5.658</td>\n",
              "      <td>3.562</td>\n",
              "      <td>1.355</td>\n",
              "      <td>5.175</td>\n",
              "      <td>1</td>\n",
              "    </tr>\n",
              "    <tr>\n",
              "      <th>...</th>\n",
              "      <td>...</td>\n",
              "      <td>...</td>\n",
              "      <td>...</td>\n",
              "      <td>...</td>\n",
              "      <td>...</td>\n",
              "      <td>...</td>\n",
              "      <td>...</td>\n",
              "      <td>...</td>\n",
              "    </tr>\n",
              "    <tr>\n",
              "      <th>205</th>\n",
              "      <td>12.19</td>\n",
              "      <td>13.20</td>\n",
              "      <td>0.8783</td>\n",
              "      <td>5.137</td>\n",
              "      <td>2.981</td>\n",
              "      <td>3.631</td>\n",
              "      <td>4.870</td>\n",
              "      <td>3</td>\n",
              "    </tr>\n",
              "    <tr>\n",
              "      <th>206</th>\n",
              "      <td>11.23</td>\n",
              "      <td>12.88</td>\n",
              "      <td>0.8511</td>\n",
              "      <td>5.140</td>\n",
              "      <td>2.795</td>\n",
              "      <td>4.325</td>\n",
              "      <td>5.003</td>\n",
              "      <td>3</td>\n",
              "    </tr>\n",
              "    <tr>\n",
              "      <th>207</th>\n",
              "      <td>13.20</td>\n",
              "      <td>13.66</td>\n",
              "      <td>0.8883</td>\n",
              "      <td>5.236</td>\n",
              "      <td>3.232</td>\n",
              "      <td>8.315</td>\n",
              "      <td>5.056</td>\n",
              "      <td>3</td>\n",
              "    </tr>\n",
              "    <tr>\n",
              "      <th>208</th>\n",
              "      <td>11.84</td>\n",
              "      <td>13.21</td>\n",
              "      <td>0.8521</td>\n",
              "      <td>5.175</td>\n",
              "      <td>2.836</td>\n",
              "      <td>3.598</td>\n",
              "      <td>5.044</td>\n",
              "      <td>3</td>\n",
              "    </tr>\n",
              "    <tr>\n",
              "      <th>209</th>\n",
              "      <td>12.30</td>\n",
              "      <td>13.34</td>\n",
              "      <td>0.8684</td>\n",
              "      <td>5.243</td>\n",
              "      <td>2.974</td>\n",
              "      <td>5.637</td>\n",
              "      <td>5.063</td>\n",
              "      <td>3</td>\n",
              "    </tr>\n",
              "  </tbody>\n",
              "</table>\n",
              "<p>210 rows × 8 columns</p>\n",
              "</div>"
            ],
            "text/plain": [
              "      Area  Perimeter  Compactness  Length of Kernel  Width of Kernel  \\\n",
              "0    15.26      14.84       0.8710             5.763            3.312   \n",
              "1    14.88      14.57       0.8811             5.554            3.333   \n",
              "2    14.29      14.09       0.9050             5.291            3.337   \n",
              "3    13.84      13.94       0.8955             5.324            3.379   \n",
              "4    16.14      14.99       0.9034             5.658            3.562   \n",
              "..     ...        ...          ...               ...              ...   \n",
              "205  12.19      13.20       0.8783             5.137            2.981   \n",
              "206  11.23      12.88       0.8511             5.140            2.795   \n",
              "207  13.20      13.66       0.8883             5.236            3.232   \n",
              "208  11.84      13.21       0.8521             5.175            2.836   \n",
              "209  12.30      13.34       0.8684             5.243            2.974   \n",
              "\n",
              "     Asymmetry Coefficient  Length of Kernel Groove  Type  \n",
              "0                    2.221                    5.220     1  \n",
              "1                    1.018                    4.956     1  \n",
              "2                    2.699                    4.825     1  \n",
              "3                    2.259                    4.805     1  \n",
              "4                    1.355                    5.175     1  \n",
              "..                     ...                      ...   ...  \n",
              "205                  3.631                    4.870     3  \n",
              "206                  4.325                    5.003     3  \n",
              "207                  8.315                    5.056     3  \n",
              "208                  3.598                    5.044     3  \n",
              "209                  5.637                    5.063     3  \n",
              "\n",
              "[210 rows x 8 columns]"
            ]
          },
          "metadata": {},
          "output_type": "display_data"
        }
      ],
      "source": [
        "# 1. area A,\n",
        "# 2. perimeter P,\n",
        "# 3. compactness C = 4*pi*A/P^2,\n",
        "# 4. length of kernel,\n",
        "# 5. width of kernel,\n",
        "# 6. asymmetry coefficient\n",
        "# 7. length of kernel groove.\n",
        "\n",
        "# https://archive.ics.uci.edu/dataset/236/seeds\n",
        "\n",
        "import pandas as pd\n",
        "\n",
        "data = pd.read_csv('seeds_dataset.txt', sep = '\\s+', header = None)\n",
        "data.columns = ['Area', 'Perimeter', 'Compactness',\n",
        "                'Length of Kernel', 'Width of Kernel',\n",
        "                'Asymmetry Coefficient', 'Length of Kernel Groove', 'Type']\n",
        "display(data)"
      ]
    },
    {
      "cell_type": "markdown",
      "id": "3c84e8e3",
      "metadata": {
        "id": "3c84e8e3"
      },
      "source": [
        "## 1. Principle Component Analysis (PCA)"
      ]
    },
    {
      "cell_type": "markdown",
      "id": "e5024bec",
      "metadata": {
        "id": "e5024bec"
      },
      "source": [
        "### 1.1 Preprocessing (3 Points)\n",
        "\n",
        "- **Split the data into X and y** (0.5 Point)\n",
        "  - Assign the features to `X` and the target variable to `y`.\n",
        "\n",
        "- **Stratified Split of X and y into Train and Test Sets** (0.5 Point)\n",
        "  - Utilize stratification to ensure representative distribution of classes while splitting.\n",
        "\n",
        "- **Plot Train and Test Proportions in a Pie Chart** (2 Points)\n",
        "  - The pie chart should include:\n",
        "    - Labels indicating 'Training Set' and 'Test Set'.\n",
        "    - A title for the chart.\n",
        "    - Proportion percentages for the Training and Test sets displayed on each slice of the pie.\n",
        "    - The number of entries within the Training and Test sets shown below the corresponding percentage."
      ]
    },
    {
      "cell_type": "code",
      "execution_count": 32,
      "id": "15a5c76c",
      "metadata": {
        "id": "15a5c76c"
      },
      "outputs": [
        {
          "data": {
            "image/png": "[encoded data removed]",
            "text/plain": [
              "<Figure size 500x500 with 1 Axes>"
            ]
          },
          "metadata": {},
          "output_type": "display_data"
        }
      ],
      "source": [
        "# 1.1\n",
        "# Add necessary code here.\n",
        "y = data['Type']\n",
        "X = data.drop(columns = ['Type'])\n",
        "#stratified split of X and y into training and testing sets\n",
        "from sklearn.model_selection import train_test_split\n",
        "X_train, X_test, y_train, y_test = train_test_split(X, y, test_size = 0.2, stratify = y, random_state = 42)\n",
        "\n",
        "import matplotlib.pyplot as plt\n",
        "\n",
        "train_size = len(X_train)\n",
        "test_size = len(X_test)\n",
        "\n",
        "labels = ['Training Set', 'Testing set']\n",
        "\n",
        "sizes = [train_size, test_size]\n",
        "plt.figure(figsize = (5, 5))\n",
        "\n",
        "plt.pie(sizes, labels=labels, autopct='%1.1f%%', startangle=90, colors = ['lightblue', 'lightgreen'])\n",
        "plt.title('Train and Test set sizes Pie Chart')\n",
        "plt.text(-1.0, -0.7, f\"Training Set: {train_size} entries\", fontsize=9)\n",
        "plt.text(0.1, 0.3, f\"Test Set: {test_size} entries\", fontsize=9)\n",
        "plt.show()\n"
      ]
    },
    {
      "cell_type": "markdown",
      "id": "k64eg7HBbn48",
      "metadata": {
        "id": "k64eg7HBbn48"
      },
      "source": [
        "<font color='Green'><b>Answer:</b></font>\n",
        "\n",
        "- **1.1** ....................."
      ]
    },
    {
      "cell_type": "markdown",
      "id": "f908b657",
      "metadata": {
        "id": "f908b657"
      },
      "source": [
        "### 1.2 Scaling the Data (2 Points)\n",
        "\n",
        "To ensure that our preprocessing pipeline optimizes the performance of our machine learning model, we need to scale the data appropriately.\n",
        "\n",
        "- **Selecting an Appropriate Scaler**:\n",
        "  - Explain your choice of scaler for the dataset. (1 Points)\n",
        "  - Justify your decision based on the characteristics of the data and the requirements of the algorithm being used. (1 Points)\n"
      ]
    },
    {
      "cell_type": "markdown",
      "id": "282cbc43",
      "metadata": {
        "id": "282cbc43"
      },
      "source": [
        "<font color='Green'><b>Answer:</b></font>\n",
        "\n",
        "- **1.2** .....................\n",
        "\n",
        "I am going to use Robust scaler for my dataset to mitigate the effects of outliers and to still standardize it based around 0 for easier use. This will mitigate noise from sample collection in the model on the extremes. I am going to utilize this model because the models we are creating arent based solely off calculating distances. \n",
        "\n",
        "Preprocessing pieplines optimize the performance of our machine learning model. Scaling the data is crucial to ensure that the relationships built open them are matching. Simple examples of this are ensuring metric consistency between measurments or making them centered about a certain value.\n",
        "\n",
        "Examples of preprocessing methods for scaling include, StandardScaler, RobustScaler, MinMaxScaler, and Normalizer. \n",
        "\n",
        "Standard Scaler is utilzied to tranform data to have a media of zero and a standard deviation of one. This helps standardize the data so it can scale easily.\n",
        "\n",
        "Robust scaler is utilized to mitigate the impact of outliers on the data. It utilizes the median data and the interquartile range of the feature vector( Q3 -Q1). This lessens the impact of outliers on the new scaled data.\n",
        "\n",
        "Minmax scaler typically scales the features to be between 0 and 1. It is good to create bounded area however, it is very prone to outliers. It specificially utilizes the min and max of the feature vector to create the scaling. \n",
        "\n",
        "Lastly, normalizer method creates vector depending on the magnitude of the feature. This is particularly useful for text classifications or clustering where cosine similarity is used. It is very useful if distances are going to be used in the model.\n",
        "\n"
      ]
    },
    {
      "cell_type": "code",
      "execution_count": null,
      "id": "4cbad02b",
      "metadata": {},
      "outputs": [],
      "source": [
        "# implement  Robust Scalaer on data: X_train, X_test, y_train, y_test\n",
        "from sklearn.preprocessing import RobustScaler\n",
        "\n",
        "scaler = RobustScaler()\n",
        "X_train_scaled = scaler.fit_transform(X_train)\n",
        "X_test_scaled = scaler.transform(X_test)\n",
        "\n",
        "\n",
        "\n",
        "\n"
      ]
    },
    {
      "cell_type": "markdown",
      "id": "8cfa23f3",
      "metadata": {
        "id": "8cfa23f3"
      },
      "source": [
        "### 1.3 Model Selection and Justification (2 Points)\n",
        "\n",
        "- **Choose an Appropriate Machine Learning Model**:\n",
        "  - Identify the model that you believe is most suitable for the dataset.\n",
        "  - Provide a justification for your choice based on the dataset's characteristics."
      ]
    },
    {
      "cell_type": "code",
      "execution_count": null,
      "id": "wRdBE-rFbuM8",
      "metadata": {
        "id": "wRdBE-rFbuM8"
      },
      "outputs": [],
      "source": [
        "# 1.3\n",
        "# Add necessary code here.\n"
      ]
    },
    {
      "cell_type": "markdown",
      "id": "773d0687",
      "metadata": {
        "id": "773d0687"
      },
      "source": [
        "<font color='Green'><b>Answer:</b></font>\n",
        "\n",
        "- **1.3** ....................."
      ]
    },
    {
      "cell_type": "markdown",
      "id": "2177add4",
      "metadata": {
        "id": "2177add4"
      },
      "source": [
        "### 1.4 Hyperparameter Optimization with Grid Search (3 Points)\n",
        "\n",
        "- **Set Up the Grid Search**:\n",
        "  - Construct a pipeline that incorporates the selected scaler from part 1.2 to standardize the data.\n",
        "  - Execute a grid search within this pipeline to identify the best hyperparameter settings for your chosen model.\n",
        "  - Provide a broad and varied range of hyperparameter values to ensure a thorough search.\n"
      ]
    },
    {
      "cell_type": "code",
      "execution_count": null,
      "id": "cw6f0w0DbvaE",
      "metadata": {
        "id": "cw6f0w0DbvaE"
      },
      "outputs": [],
      "source": [
        "# 1.4\n",
        "# Add necessary code here."
      ]
    },
    {
      "cell_type": "markdown",
      "id": "HisdcY2Zbw4M",
      "metadata": {
        "id": "HisdcY2Zbw4M"
      },
      "source": [
        "<font color='Green'><b>Answer:</b></font>\n",
        "\n",
        "- **1.4** ....................."
      ]
    },
    {
      "cell_type": "markdown",
      "id": "KHenrooWRjzm",
      "metadata": {
        "id": "KHenrooWRjzm"
      },
      "source": [
        "### 1.5 Dimensionality Reduction and Model Optimization (6 Points)\n",
        "\n",
        "- **Dimensionality Reduction Choice** (2 Points):\n",
        "  - Choose between PCA and t-SNE for reducing the dataset to two dimensions.\n",
        "  - Justify your selection based on the characteristics of the seeds dataset.\n",
        "\n",
        "- **Implement Dimensionality Reduction** (2 Points):\n",
        "  - Apply the chosen dimensionality reduction technique to the seeds dataset.\n",
        "  - Reduce the dataset to two dimensions as required.\n",
        "\n",
        "- **Model Optimization on Reduced Data** (2 Points):\n",
        "  - Redo the grid search from part 1.4 using the two-dimensional data.\n",
        "  - Compare the model's performance with the original higher-dimensional data."
      ]
    },
    {
      "cell_type": "code",
      "execution_count": null,
      "id": "ENlNZK1ub7ws",
      "metadata": {
        "id": "ENlNZK1ub7ws"
      },
      "outputs": [],
      "source": [
        "# 1.5\n",
        "# Add necessary code here."
      ]
    },
    {
      "cell_type": "markdown",
      "id": "qK_pfLzVb9Kr",
      "metadata": {
        "id": "qK_pfLzVb9Kr"
      },
      "source": [
        "<font color='Green'><b>Answer:</b></font>\n",
        "\n",
        "- **1.5** ....................."
      ]
    },
    {
      "cell_type": "markdown",
      "id": "hLqYEWqrUnzT",
      "metadata": {
        "id": "hLqYEWqrUnzT"
      },
      "source": [
        "### 1.6 Visualizing Reduced Dimensionality Data (2 Points)\n",
        "\n",
        "- **Create a 2D Scatter Plot for Training and Testing Sets**:\n",
        "  - Generate 1-row-two-column subplots for scatter plots for the two-dimensional training and testing data obtained from part 1.5.\n",
        "  - Clearly label the x-axis and y-axis for both plots.\n",
        "  - Include a legend in each plot that distinctly represents the distribution of the three classes (you can use different shapes and colors to represent different classes)."
      ]
    },
    {
      "cell_type": "code",
      "execution_count": null,
      "id": "OlN_Ea9TUsVo",
      "metadata": {
        "id": "OlN_Ea9TUsVo"
      },
      "outputs": [],
      "source": [
        "# 1.6\n",
        "# Add necessary code here."
      ]
    },
    {
      "cell_type": "markdown",
      "id": "3bf578b1",
      "metadata": {
        "id": "3bf578b1"
      },
      "source": [
        "## 2. Clustering and Visualization of the Seeds Dataset"
      ]
    },
    {
      "cell_type": "markdown",
      "id": "tSuKPKYtXOqo",
      "metadata": {
        "id": "tSuKPKYtXOqo"
      },
      "source": [
        "### 2.1 Create a Pipeline for Scaling and K-Means Clustering (3 Points)\n",
        "\n",
        "- Construct a pipeline that includes a scaler and the K-Means clustering algorithm.\n",
        "- Use the `KelbowVisualizer` with `metric='calinski_harabasz'` from Yellowbrick to determine the optimal number of clusters, `k`.\n",
        "- Explain the results of the `KelbowVisualizer`."
      ]
    },
    {
      "cell_type": "code",
      "execution_count": null,
      "id": "u12HFmYNXQvg",
      "metadata": {
        "id": "u12HFmYNXQvg"
      },
      "outputs": [],
      "source": [
        "# 2.1\n",
        "# Add necessary code here."
      ]
    },
    {
      "cell_type": "markdown",
      "id": "ubYW3yzIYOev",
      "metadata": {
        "id": "ubYW3yzIYOev"
      },
      "source": [
        "<font color='Green'><b>Answer:</b></font>\n",
        "\n",
        "- **2.1** ....................."
      ]
    },
    {
      "cell_type": "markdown",
      "id": "RSI8FWbVYsQU",
      "metadata": {
        "id": "RSI8FWbVYsQU"
      },
      "source": [
        "### 2.2 Label the Data Using the Optimal Number of Clusters (2 Points)\n",
        "- Label the training data using the pipeline that includes both the scaler and K-Means with the optimal `k` found in part 2.1."
      ]
    },
    {
      "cell_type": "code",
      "execution_count": null,
      "id": "oghD_WIAYtn7",
      "metadata": {
        "id": "oghD_WIAYtn7"
      },
      "outputs": [],
      "source": [
        "# 2.2\n",
        "# Add necessary code here."
      ]
    },
    {
      "cell_type": "markdown",
      "id": "Wbq4Xt5uYyZH",
      "metadata": {
        "id": "Wbq4Xt5uYyZH"
      },
      "source": [
        "### 2.3 Dimensionality Reduction Using PCA (2 Points)\n",
        "- Apply PCA to reduce the dimensionality of the dataset to 2D."
      ]
    },
    {
      "cell_type": "code",
      "execution_count": null,
      "id": "6Off0lQlYz8o",
      "metadata": {
        "id": "6Off0lQlYz8o"
      },
      "outputs": [],
      "source": [
        "# 2.3\n",
        "# Add necessary code here."
      ]
    },
    {
      "cell_type": "markdown",
      "id": "He9Ku5U_Y4Pn",
      "metadata": {
        "id": "He9Ku5U_Y4Pn"
      },
      "source": [
        "#### 2.4 Plot the 2D Data with Cluster Labels (3 Points)\n",
        "- Create a 2D scatter plot of the PCA-reduced data.\n",
        "- Color the points using the labels obtained from K-Means clustering."
      ]
    },
    {
      "cell_type": "code",
      "execution_count": null,
      "id": "POBknNOwY6Oz",
      "metadata": {
        "id": "POBknNOwY6Oz"
      },
      "outputs": [],
      "source": [
        "# 2.4\n",
        "# Add necessary code here."
      ]
    },
    {
      "cell_type": "markdown",
      "id": "4kILrSH9aDvn",
      "metadata": {
        "id": "4kILrSH9aDvn"
      },
      "source": [
        "## Bonus Question: Interpretation of Clustering Results (2 Points)\n",
        "\n",
        "- **Analyze and Interpret the Clustering Outcome**:\n",
        "  - Based on the 2D PCA plot with K-Means clustering labels from part 2.4, provide an interpretation of the clustering results.\n",
        "  - Discuss any patterns or insights observed from the plot, considering the distribution and overlap of clusters."
      ]
    },
    {
      "cell_type": "markdown",
      "id": "nUOBtxvfcVbW",
      "metadata": {
        "id": "nUOBtxvfcVbW"
      },
      "source": [
        "<font color='Green'><b>Answer:</b></font>\n",
        "\n",
        "- **Bonus Question** ....................."
      ]
    }
  ],
  "metadata": {
    "colab": {
      "provenance": []
    },
    "kernelspec": {
      "display_name": "Python 3 (ipykernel)",
      "language": "python",
      "name": "python3"
    },
    "language_info": {
      "codemirror_mode": {
        "name": "ipython",
        "version": 3
      },
      "file_extension": ".py",
      "mimetype": "text/x-python",
      "name": "python",
      "nbconvert_exporter": "python",
      "pygments_lexer": "ipython3",
      "version": "3.9.7"
    }
  },
  "nbformat": 4,
  "nbformat_minor": 5
}
